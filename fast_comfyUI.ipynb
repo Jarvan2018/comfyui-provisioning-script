{
 "cells": [
  {
   "cell_type": "markdown",
   "metadata": {},
   "source": [
    "# 运行ComfyUI"
   ]
  },
  {
   "cell_type": "code",
   "execution_count": null,
   "metadata": {},
   "outputs": [],
   "source": [
    "\n",
    "import subprocess\n",
    "import threading\n",
    "import time\n",
    "import socket\n",
    "import urllib.request\n",
    "\n",
    "\n",
    "def install_cloudflared():\n",
    "    # 检查 cloudflared 软件包是否已安装\n",
    "    status = subprocess.run(['dpkg-query', '-W', 'cloudflared'], capture_output=True, text=True)\n",
    "    is_installed = status.returncode == 0\n",
    "\n",
    "    if not is_installed:\n",
    "        # 下载 cloudflared 软件包\n",
    "        subprocess.run(['wget', 'https://github.com/cloudflare/cloudflared/releases/latest/download/cloudflared-linux-amd64.deb'])\n",
    "\n",
    "        # 安装 cloudflared 软件包\n",
    "        subprocess.run(['dpkg', '-i', 'cloudflared-linux-amd64.deb'])\n",
    "        \n",
    "        # 检查安装是否成功\n",
    "        status = subprocess.run(['dpkg-query', '-W', 'cloudflared'], capture_output=True, text=True)\n",
    "        if status.returncode != 0:\n",
    "            raise RuntimeError(\"安装 cloudflared 软件包失败。\")\n",
    "    else:\n",
    "        print(\"cloudflared 已经安装。\")\n",
    "\n",
    "\n",
    "\n",
    "def iframe_thread(port):\n",
    "  while True:\n",
    "      time.sleep(0.5)\n",
    "      sock = socket.socket(socket.AF_INET, socket.SOCK_STREAM)\n",
    "      result = sock.connect_ex(('127.0.0.1', port))\n",
    "      if result == 0:\n",
    "        break\n",
    "      sock.close()\n",
    "  print(\"\\nComfyUI finished loading, trying to launch cloudflared (if it gets stuck here cloudflared is having issues)\\n\")\n",
    "\n",
    "  p = subprocess.Popen([\"cloudflared\", \"tunnel\", \"--url\", \"http://127.0.0.1:{}\".format(port)], stdout=subprocess.PIPE, stderr=subprocess.PIPE)\n",
    "  for line in p.stderr:\n",
    "    l = line.decode()\n",
    "    if \"trycloudflare.com \" in l:\n",
    "      print(\"This is the URL to access ComfyUI:\", l[l.find(\"http\"):], end='')\n",
    "    #print(l, end='')\n",
    "\n",
    "\n",
    "# 调用 install_cloudflared() 方法安装 cloudflared\n",
    "install_cloudflared()\n",
    "\n",
    "threading.Thread(target=iframe_thread, daemon=True, args=(8188,)).start()\n",
    "\n",
    "# 运行命令建议终端运行如下code cell"
   ]
  },
  {
   "cell_type": "code",
   "execution_count": null,
   "metadata": {
    "vscode": {
     "languageId": "shellscript"
    }
   },
   "outputs": [],
   "source": [
    "cd /workspace/ComfyUI\n",
    "source /workspace/myenv/bin/activate\n",
    "python main.py --dont-print-server"
   ]
  }
 ],
 "metadata": {
  "language_info": {
   "name": "python"
  },
  "orig_nbformat": 4
 },
 "nbformat": 4,
 "nbformat_minor": 2
}
